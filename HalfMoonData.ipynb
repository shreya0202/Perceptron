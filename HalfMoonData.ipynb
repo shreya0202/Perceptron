{
  "nbformat": 4,
  "nbformat_minor": 0,
  "metadata": {
    "kernelspec": {
      "display_name": "Python 3",
      "language": "python",
      "name": "python3"
    },
    "language_info": {
      "codemirror_mode": {
        "name": "ipython",
        "version": 3
      },
      "file_extension": ".py",
      "mimetype": "text/x-python",
      "name": "python",
      "nbconvert_exporter": "python",
      "pygments_lexer": "ipython3",
      "version": "3.6.3"
    },
    "colab": {
      "name": "HalfMoonData.ipynb",
      "provenance": [],
      "collapsed_sections": [],
      "include_colab_link": true
    }
  },
  "cells": [
    {
      "cell_type": "markdown",
      "metadata": {
        "id": "view-in-github",
        "colab_type": "text"
      },
      "source": [
        "<a href=\"https://colab.research.google.com/github/shreya0202/Perceptron/blob/main/HalfMoonData.ipynb\" target=\"_parent\"><img src=\"https://colab.research.google.com/assets/colab-badge.svg\" alt=\"Open In Colab\"/></a>"
      ]
    },
    {
      "cell_type": "code",
      "metadata": {
        "id": "x7F_ksJdf3lK"
      },
      "source": [
        "import numpy as np\n",
        "from numpy import random\n",
        "from random import *\n",
        "from matplotlib import pyplot as plt\n",
        "import math\n",
        "from math import *\n",
        "from sklearn.model_selection import train_test_split\n",
        "from sklearn.metrics import accuracy_score"
      ],
      "execution_count": null,
      "outputs": []
    },
    {
      "cell_type": "code",
      "metadata": {
        "id": "KVWtdlANf3lS"
      },
      "source": [
        "# Perceptron class\n",
        "class SL_Perceptron(object):\n",
        "    \n",
        "    def __init__(self, num_samples):\n",
        "        # Initialises the weights with all zeros and sets the learning rate\n",
        "        self.w = np.zeros(num_samples)\n",
        "        self.lr = 0.01\n",
        "        \n",
        "    def update_weights(self, sample, error):\n",
        "        # In case of a misclassification, update the weight vector\n",
        "        for i in range(len(sample)):\n",
        "            self.w[i] += (self.lr * sample[i] * error)\n",
        "\n",
        "    def output_sigmoid(self, samples):\n",
        "        # Calculates the sum of products of weights(W) and samples(X) \n",
        "        # and returns the sigmoid of that value\n",
        "        value = 0\n",
        "        \n",
        "        for i in range(len(samples)):\n",
        "            value += samples[i]*self.w[i]\n",
        "             \n",
        "        return float(1/(1+exp(-value)))\n",
        "    \n",
        "    def result(self, sample):\n",
        "        res = self.output_sigmoid(sample)\n",
        "        if(res > 0.5):\n",
        "            return 1\n",
        "        elif(res <= 0.5):\n",
        "            return 0\n",
        "        else:\n",
        "            return -1"
      ],
      "execution_count": null,
      "outputs": []
    },
    {
      "cell_type": "code",
      "metadata": {
        "id": "1-OshUYbf3lY"
      },
      "source": [
        "def make_half_moons(n_samples, radius, width, distance):\n",
        "    # Initialise dummy variables\n",
        "    num_rows = 3\n",
        "    num_cols = n_samples\n",
        "    r = radius\n",
        "    w = width\n",
        "    d = distance\n",
        "    \n",
        "    # Check for boundary conditions\n",
        "    if(r < w/2):\n",
        "        print(\"\\nError: Radius should atleast be larger than half the width.\")\n",
        "            \n",
        "    if(num_cols%2 != 0):\n",
        "        print(\"\\nError: Number of samples should be even.\")\n",
        "        num_cols -= 1\n",
        "    \n",
        "    # Create random 2D array of floats between 0.0 and 1.0\n",
        "    a = np.random.rand(num_rows, num_cols//2)\n",
        "    \n",
        "    # Define rad for first half of records\n",
        "    rad = (r - w/2) + w*a[0][:]\n",
        "    \n",
        "    # Define theta for second half of records\n",
        "    theta = np.pi*a[1][:]\n",
        "    \n",
        "    # Create data-set\n",
        "    # First half-moon data\n",
        "    x1 = np.multiply(rad, np.cos(theta))\n",
        "    y1 = np.multiply(rad, np.sin(theta))\n",
        "    label1 = 1*np.ones((1, len(x1)), dtype=int)\n",
        "    label1 = np.hstack(label1)\n",
        "    \n",
        "    # Second half-moon data\n",
        "    x2 = np.multiply(rad, np.cos(-theta)) + r\n",
        "    y2 = np.multiply(rad, np.sin(-theta)) - d\n",
        "    label2 = 0*np.ones((1, len(x2)), dtype=int)\n",
        "    label2 = np.hstack(label2)\n",
        "    \n",
        "    # Create dataset by combining all values of x's and y's and\n",
        "    # labels, and shuffling them randomly.\n",
        "    x = np.concatenate((x1, x2))\n",
        "    y = np.concatenate((y1, y2))\n",
        "    labels = np.concatenate((label1, label2))\n",
        "    \n",
        "    # Create coordinate-type dataset from individual values\n",
        "    # so that we have a dataset of type Xi = [[x, y], label]\n",
        "    X = np.zeros((len(x), 2))\n",
        "    k = 0\n",
        "    for i, j in zip(x, y):\n",
        "        X[k][0] = i\n",
        "        X[k][1] = j\n",
        "        k += 1\n",
        "\n",
        "    data_set = [X, labels]\n",
        "        \n",
        "    # Plot a half-moon graph for given dataset\n",
        "    plt.plot(x1, y1, \"r.\", x2, y2, \"b.\")\n",
        "    plt.show()\n",
        "    \n",
        "    return data_set"
      ],
      "execution_count": null,
      "outputs": []
    },
    {
      "cell_type": "code",
      "metadata": {
        "scrolled": true,
        "id": "XULaaRzff3le"
      },
      "source": [
        "def model_training(input_train, output_train, pptron):\n",
        "    \n",
        "    print(\"\\n\\n----------Training----------\")\n",
        "    total_train_samples = len(input_train)\n",
        "    print(\"\\nNumber of testing data points: {}\\n\".format(total_train_samples))\n",
        "    \n",
        "    epochs = 0\n",
        "    \n",
        "    while(epochs < 50):\n",
        "\n",
        "        x_data = []\n",
        "        i = 0\n",
        "        # Iterate over each record in training-data\n",
        "        for sample in input_train:\n",
        "                     \n",
        "            flag = 0\n",
        "            \n",
        "            # Calculate output using sigmoid of each iteration\n",
        "            output = pptron.output_sigmoid(sample[0])\n",
        "            \n",
        "            # Calculate error signal\n",
        "            # Not to be calculated in case of testing\n",
        "            error = sample[1] - output\n",
        "            \n",
        "            # Check for result accuracy\n",
        "            flag = pptron.result(sample[0])\n",
        "            x_data = np.append(x_data, flag)\n",
        "\n",
        "            # Update weights according to error signal\n",
        "            # Not to be done in case of testing since we need pre-trained weight vectors\n",
        "            pptron.update_weights(sample[0], error)\n",
        "            \n",
        "        accuracy = (accuracy_score(y_true=output_train, y_pred=x_data)) * 100\n",
        "        if(epochs%5 == 0):\n",
        "            print(\"Epoch {}: Training Accuracy metric: {}%\".format(epochs, round(accuracy, 2)))\n",
        "                    \n",
        "        epochs += 1"
      ],
      "execution_count": null,
      "outputs": []
    },
    {
      "cell_type": "code",
      "metadata": {
        "id": "nNOqVVoYf3li"
      },
      "source": [
        "def model_testing(input_test, output_test, pptron):\n",
        "    \n",
        "    print(\"\\n\\n-----------Testing-----------\")\n",
        "    total_test_samples = len(input_test)\n",
        "    print(\"\\nNumber of testing data points: {}\\n\".format(total_test_samples))\n",
        "    \n",
        "    # Set limit to number of epochs = 30 in while loop\n",
        "    epochs = 0\n",
        "    x_data = []\n",
        "    i = 0\n",
        "    \n",
        "    # Iterate over each record in training-data\n",
        "    for sample in input_test:           \n",
        "        flag = 0  \n",
        "        # Calculate output using sigmoid of each iteration\n",
        "        # print(\"\\nSample under review: {}\".format(sample))\n",
        "        output = pptron.output_sigmoid(sample[0])\n",
        " \n",
        "        # Check for result accuracy\n",
        "        flag = pptron.result(sample[0])\n",
        "        x_data = np.append(x_data, flag)\n",
        "\n",
        "    accuracy = (accuracy_score(y_true=output_test, y_pred=x_data)) * 100\n",
        "    print(\"Testing Accuracy metric: {}%\".format(round(accuracy, 2)))"
      ],
      "execution_count": null,
      "outputs": []
    },
    {
      "cell_type": "code",
      "metadata": {
        "id": "-RVPH15df3ln"
      },
      "source": [
        "def main():\n",
        "  # Create data by calling make_half_moons method\n",
        "  data = make_half_moons(4000, 10, 8, 0)\n",
        "\n",
        "  # Split data into training and testing sets\n",
        "  X_train, X_test, y_train, y_test = train_test_split(data[0], data[1], test_size=0.5, random_state=42)\n",
        "\n",
        "  # Create a tuple of the training data-set to be used for weight updation\n",
        "  # and error signal calculation\n",
        "  training_data = list(zip(X_train, y_train))\n",
        "  testing_data = list(zip(X_test, y_test))\n",
        "\n",
        "  # Create SL_Perceptron object\n",
        "  perceptron = SL_Perceptron(len(data[0][0]))\n",
        "\n",
        "  model_training(training_data, y_train, perceptron)\n",
        "      \n",
        "  model_testing(testing_data, y_test, perceptron)"
      ],
      "execution_count": null,
      "outputs": []
    },
    {
      "cell_type": "code",
      "metadata": {
        "id": "2z8cOXb_f3lx",
        "outputId": "6183b473-c3c4-45ba-fec5-3de095a7b398",
        "colab": {
          "base_uri": "https://localhost:8080/",
          "height": 675
        }
      },
      "source": [
        "main()"
      ],
      "execution_count": null,
      "outputs": [
        {
          "output_type": "display_data",
          "data": {
            "image/png": "[encoded data removed]",
            "text/plain": [
              "<Figure size 432x288 with 1 Axes>"
            ]
          },
          "metadata": {
            "tags": [],
            "needs_background": "light"
          }
        },
        {
          "output_type": "stream",
          "text": [
            "\n",
            "\n",
            "----------Training----------\n",
            "\n",
            "Number of testing data points: 2000\n",
            "\n",
            "Epoch 0: Training Accuracy metric: 98.65%\n",
            "Epoch 5: Training Accuracy metric: 99.6%\n",
            "Epoch 10: Training Accuracy metric: 99.65%\n",
            "Epoch 15: Training Accuracy metric: 99.65%\n",
            "Epoch 20: Training Accuracy metric: 99.65%\n",
            "Epoch 25: Training Accuracy metric: 99.7%\n",
            "Epoch 30: Training Accuracy metric: 99.7%\n",
            "Epoch 35: Training Accuracy metric: 99.7%\n",
            "Epoch 40: Training Accuracy metric: 99.7%\n",
            "Epoch 45: Training Accuracy metric: 99.7%\n",
            "\n",
            "\n",
            "-----------Testing-----------\n",
            "\n",
            "Number of testing data points: 2000\n",
            "\n",
            "Testing Accuracy metric: 99.95%\n"
          ],
          "name": "stdout"
        }
      ]
    }
  ]
}